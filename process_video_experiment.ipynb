{
 "cells": [
  {
   "cell_type": "markdown",
   "id": "ac986ed3",
   "metadata": {},
   "source": [
    "# Video Processing in a Sliding Window (Experiment)\n",
    "\n",
    "This notebook demonstrates reading a video using OpenCV and processing it **a few frames at a time**, keeping a queue of up to `batch_size` frames and processing it. \n",
    "Each time we add a new frame, if the queue is full, we drop the oldest frame. This effectively gives us a rolling/sliding window of frames.\n",
    "\n",
    "A degenerated usage of processing 1 frame per iteration can be achieved by initializing ProcessVideoExperiment with batch_size=1."
   ]
  },
  {
   "cell_type": "code",
   "execution_count": null,
   "id": "44fb21d7",
   "metadata": {
    "tags": []
   },
   "outputs": [],
   "source": [
    "# If you need to install opencv-python, uncomment and run:\n",
    "# !pip install opencv-python\n",
    "\n",
    "import numpy as np\n",
    "import cv2 as cv\n",
    "from collections import deque\n",
    "from datetime import datetime\n",
    "from video_batch_processor import VideoBatchProcessor\n",
    "from timer import Timer\n",
    "from metrics_extractor import DEFAULT_FARNEBACK_PARAMS, DEFAULT_LUCAS_KANADE_PARAMS, DEFAULT_TVL1_PARAMS, \\\n",
    "extract_farneback_metric, extract_TVL1_metric, extract_lucas_kanade_metric, extract_metrics, append_metrics"
   ]
  },
  {
   "cell_type": "markdown",
   "id": "58a4af87",
   "metadata": {},
   "source": [
    "### Set Video capture device, Batch Size, and Timer object\n",
    "- `batch_size`: how many frames to store in the sliding window.\n",
    "- `video_capture_object`: the object that provides frames to process. \n",
    "                          can be camera/file.\n",
    "- `timer_object`: the timer object we use to make timestamps"
   ]
  },
  {
   "cell_type": "code",
   "execution_count": null,
   "id": "5e3baf58",
   "metadata": {},
   "outputs": [],
   "source": [
    "IS_WEBCAM = False  # toggle: True -> capture from webcam. False -> capture from file.\n",
    "\n",
    "if IS_WEBCAM:\n",
    "        video_source = 0\n",
    "else:  # video source is a video file\n",
    "        video_source = \"Workable Data/Processed/DPH0_Surface_TL.avi\"\n",
    "        \n",
    "video_capture_object = cv.VideoCapture(video_source)\n",
    "\n",
    "batch_size = 5  # Number of frames in the sliding window\n",
    "\n",
    "if not video_capture_object.isOpened():\n",
    "        if IS_WEBCAM:\n",
    "                raise IOError(f\"Cannot open webcam.\")\n",
    "        else:\n",
    "                raise IOError(f\"Cannot open video file: {video_source}.\")\n",
    "\n",
    "timer_object = Timer()"
   ]
  },
  {
   "cell_type": "markdown",
   "id": "d9dc748d",
   "metadata": {},
   "source": [
    "### Setup Hyper-Parameters\n",
    "- `super_pixel_dimensions`: a tuple of (x_size, y_size)\n",
    "- `frame_window_size`: the queue size of the moving window of frames."
   ]
  },
  {
   "cell_type": "code",
   "execution_count": null,
   "id": "bc4eb135",
   "metadata": {},
   "outputs": [],
   "source": [
    "super_pixel_dimensions = (2, 2)  # can be modified\n",
    "frame_window_size = 5"
   ]
  },
  {
   "cell_type": "markdown",
   "id": "7ff6c3eb",
   "metadata": {},
   "source": [
    "### Process Function\n",
    "We'll define a simple function to illustrate what you might do with each batch (window) of frames.\n",
    "- Here, we just print out how many frames are in the current window.\n",
    "- You could replace this with custom logic (e.g., saving images, running inference, etc.)."
   ]
  },
  {
   "cell_type": "code",
   "execution_count": null,
   "id": "09d4c344",
   "metadata": {},
   "outputs": [],
   "source": [
    "def process_frame_window(frames: deque):\n",
    "    current_timestamp = datetime.now()\n",
    "\n",
    "    if len(frames) < 2:\n",
    "        raise RuntimeError(\"frame window size must have at least 2 frames.\")\n",
    "    \n",
    "    frame1 = frames[0]   # take first frame in frame window\n",
    "    frame2 = frames[-1]  # take last frame in frame window\n",
    "\n",
    "    # prepare the metric extractors\n",
    "    metric_extractors = dict()\n",
    "    metric_extractors[\"Lucas-Kanade\"] = {\n",
    "        \"kwargs\": DEFAULT_LUCAS_KANADE_PARAMS,\n",
    "        \"function\": extract_lucas_kanade_metric\n",
    "    }\n",
    "    metric_extractors[\"Farneback\"] = {\n",
    "        \"kwargs\": DEFAULT_FARNEBACK_PARAMS,\n",
    "        \"function\": extract_farneback_metric\n",
    "    }\n",
    "    metric_extractors[\"TVL1\"] = {\n",
    "        \"kwargs\": DEFAULT_TVL1_PARAMS,\n",
    "        \"function\": extract_TVL1_metric\n",
    "    }\n",
    "    # TODO: add more metric extractors here\n",
    "\n",
    "    metrics = extract_metrics(frame1, frame2, metric_extractors)\n",
    "    \n",
    "    return metrics"
   ]
  },
  {
   "cell_type": "markdown",
   "id": "82cc8025",
   "metadata": {},
   "source": [
    "### Setup for Main Loop"
   ]
  },
  {
   "cell_type": "code",
   "execution_count": null,
   "id": "76486059",
   "metadata": {},
   "outputs": [],
   "source": [
    "frame_window = deque()  # Init as deque so i can pop left with minimal overhead\n",
    "\n",
    "for i in range(frame_window_size):\n",
    "    ret, frame = video_capture_object.read()  # Read a frame\n",
    "\n",
    "    if not ret:\n",
    "        print(\"End of video or error\")\n",
    "        break\n",
    "\n",
    "    frame_window.append(frame)\n",
    "\n",
    "timer_object.tick()  # Start the clock"
   ]
  },
  {
   "cell_type": "markdown",
   "id": "497699c2",
   "metadata": {},
   "source": [
    "### Main Loop\n",
    "TODO:"
   ]
  },
  {
   "cell_type": "code",
   "execution_count": null,
   "id": "184473eb",
   "metadata": {},
   "outputs": [
    {
     "name": "stdout",
     "output_type": "stream",
     "text": [
      "\n",
      "Finished processing the video.\n"
     ]
    }
   ],
   "source": [
    "try:\n",
    "    frame_count = frame_window_size    \n",
    "    today = timer_object.start_time\n",
    "    output_prefix = f'{today.year}-{today.month}-{today.day}'\n",
    "\n",
    "    if IS_WEBCAM:\n",
    "        output_suffix = 'time_microsec'\n",
    "    else:  # is video file\n",
    "        output_suffix = 'frame_count'\n",
    "        \n",
    "\n",
    "    while True:\n",
    "        ret, frame = video_capture_object.read()  # Read a frame\n",
    "\n",
    "        if not ret:\n",
    "            print(\"End of video or error\")\n",
    "            break\n",
    "\n",
    "        frame_window.popleft()\n",
    "        frame_window.append(frame)\n",
    "\n",
    "        if IS_WEBCAM:  # t-axis is elapsed miliseconds\n",
    "            # taking the elapsed before, so i can know the time of when the last frame was taken.\n",
    "            elapsed_miliseconds = timer_object.tock() // 1000  # convert micro to mili\n",
    "            elapsed_t_units = elapsed_miliseconds\n",
    "        else:  # If file then the t-axis is frame count\n",
    "            elapsed_t_units = frame_count\n",
    "\n",
    "        # NOTE: this is the HEAVY function\n",
    "        # metrics is now a dictionary of the form: {\"varient_name\": <metrics dictionary>}\n",
    "        metrics = process_frame_window(frame_window)\n",
    "\n",
    "        # log the metrics with the elapsed units\n",
    "        output_file_path = f'./output/{output_prefix}_{video_source[:15]}_flow_metrics_{output_suffix}.csv'\n",
    "        append_metrics(output_file_path, metrics, elapsed_t_units)\n",
    "\n",
    "        # TODO: display updating video and graph\n",
    "\n",
    "        frame_count += 1\n",
    "\n",
    "finally:  # release resources\n",
    "    video_capture_object.release()\n",
    "    cv.destroyAllWindows()"
   ]
  }
 ],
 "metadata": {
  "kernelspec": {
   "display_name": "gpu",
   "language": "python",
   "name": "python3"
  },
  "language_info": {
   "codemirror_mode": {
    "name": "ipython",
    "version": 3
   },
   "file_extension": ".py",
   "mimetype": "text/x-python",
   "name": "python",
   "nbconvert_exporter": "python",
   "pygments_lexer": "ipython3",
   "version": "3.10.11"
  }
 },
 "nbformat": 4,
 "nbformat_minor": 5
}
