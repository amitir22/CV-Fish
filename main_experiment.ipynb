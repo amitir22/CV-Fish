{
 "cells": [
  {
   "cell_type": "code",
   "execution_count": null,
   "metadata": {},
   "outputs": [],
   "source": [
    "import cv2 as cv\n",
    "from collections import deque\n",
    "from frame_pair_results import FramePairResults"
   ]
  },
  {
   "cell_type": "markdown",
   "metadata": {},
   "source": [
    "### 0. Setup:\n",
    "setup experiment parameters and hyper parameters"
   ]
  },
  {
   "cell_type": "code",
   "execution_count": null,
   "metadata": {},
   "outputs": [],
   "source": [
    "IS_WEB_CAM = False\n",
    "WEB_CAM_HANDLE = 0  # 0 is the default web-cam handle of the PC\n",
    "EXAMPLE_VIDEO_PATH = \"Workable Data/Processed/DPH0_Surface_TL.avi\"\n",
    "\n",
    "if IS_WEB_CAM:\n",
    "    video_source = WEB_CAM_HANDLE\n",
    "else: \n",
    "    video_source = EXAMPLE_VIDEO_PATH\n",
    "\n",
    "super_pixel_shape = (2, 2)\n",
    "min_frame_spacing = 0\n",
    "max_frame_spacing = 4\n",
    "frame_window_size = max_frame_spacing\n",
    "capture_frame_stream = cv.VideoCapture(video_source)\n",
    "frame_window = deque()\n",
    "results_aggr = []\n",
    "\n",
    "if not capture_frame_stream.isOpened():\n",
    "    if IS_WEB_CAM:\n",
    "        raise ValueError(f\"Cannot open default web-cam\")\n",
    "    else:  # IS_WEB_CAM == False\n",
    "        raise ValueError(f\"Cannot open video file: {video_source}\")"
   ]
  },
  {
   "cell_type": "markdown",
   "metadata": {},
   "source": [
    "### The Experiment"
   ]
  },
  {
   "cell_type": "code",
   "execution_count": null,
   "metadata": {},
   "outputs": [],
   "source": [
    "# Frame window minimum setup\n",
    "for i in range(frame_window_size):\n",
    "    ret, frame = capture_frame_stream.read()  # reading next frame\n",
    "\n",
    "    if not ret:\n",
    "        # No more frames or error reading\n",
    "        raise RuntimeError(\"No more frames or error reading frames\")\n",
    "\n",
    "    frame_window.append(frame)\n",
    "\n",
    "# Experiment loop\n",
    "while True:\n",
    "    ret, frame = capture_frame_stream.read()  # reading next frame\n",
    "\n",
    "    if not ret:\n",
    "        # No more frames or error reading\n",
    "        break\n",
    "\n",
    "    # NOTE: the last frame that is read will probably be ignored and that's ok using web cam AND video file.\n",
    "    # TODO: process frames\n",
    "    current_results = FramePairResults(0)  # TODO: replace 0 with actual value\n",
    "    results_aggr.append(current_results)\n",
    "\n",
    "    frame_window.popleft()\n",
    "    frame_window.append(frame)\n",
    "    "
   ]
  }
 ],
 "metadata": {
  "language_info": {
   "name": "python"
  }
 },
 "nbformat": 4,
 "nbformat_minor": 2
}
